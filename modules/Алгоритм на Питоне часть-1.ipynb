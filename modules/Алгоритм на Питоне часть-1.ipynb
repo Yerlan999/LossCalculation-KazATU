{
 "cells": [
  {
   "cell_type": "code",
   "execution_count": 1,
   "metadata": {},
   "outputs": [],
   "source": [
    "# Импортирование неодходимых библиотек \n",
    "import numpy as np\n",
    "from scipy.linalg import logm, expm, sqrtm\n",
    "from numpy import linalg as LA"
   ]
  },
  {
   "cell_type": "code",
   "execution_count": null,
   "metadata": {},
   "outputs": [],
   "source": []
  },
  {
   "cell_type": "code",
   "execution_count": 2,
   "metadata": {},
   "outputs": [],
   "source": [
    "# Импортирование библиотек для иницализации основных параметров системы\n",
    "from calc_tools import Fazy, System, Garmoniki, Rachety"
   ]
  },
  {
   "cell_type": "code",
   "execution_count": 3,
   "metadata": {},
   "outputs": [],
   "source": [
    "# Задание значении характеристик материала для фаз и троса\n",
    "Faza_A = Fazy(\"Фаза А\", 35.336, 1.0, 240.0, 0.0, 19.0)\n",
    "Faza_B = Fazy(\"Фаза В\", 35.336, 1.0, 240.0, 6.3, 19.0)\n",
    "Faza_C = Fazy(\"Фаза С\", 35.336, 1.0, 240.0, 4.2, 25.0)\n",
    "Tross = Fazy(\"Тросс\", 17.336, 8.0, 50.0, 2.1, 28.0)"
   ]
  },
  {
   "cell_type": "code",
   "execution_count": 4,
   "metadata": {},
   "outputs": [],
   "source": [
    "# В данном случае у нас будет 50 гармоник от [1 до 50]\n",
    "garmoniki = Garmoniki(50)"
   ]
  },
  {
   "cell_type": "code",
   "execution_count": 5,
   "metadata": {},
   "outputs": [],
   "source": [
    "# Создание объекта для проведения расчетов\n",
    "rashet = Rachety()"
   ]
  },
  {
   "cell_type": "code",
   "execution_count": 6,
   "metadata": {
    "scrolled": false
   },
   "outputs": [],
   "source": [
    "# Вычисление погонных активных сопротивлении для фаз и троса.\n",
    "# Получаем матрицу с размерностью [4 на 50]\n",
    "pogon_aktiv_soprotiv_faz = rashet.pogon_aktiv_soprotiv(Fazy, garmoniki)"
   ]
  },
  {
   "cell_type": "code",
   "execution_count": 7,
   "metadata": {},
   "outputs": [
    {
     "data": {
      "text/plain": [
       "array([[0.14432738, 0.15984166, 0.17285428, 0.18446906, 0.19514405,\n",
       "        0.2051253 , 0.21456429, 0.22356262, 0.23219262, 0.15657597,\n",
       "        0.16277943, 0.16870677, 0.17439186, 0.17986218, 0.18514039,\n",
       "        0.19024539, 0.19519321, 0.19999751, 0.20467012, 0.2092213 ,\n",
       "        0.21366005, 0.21799432, 0.22223115, 0.22637683, 0.23043701,\n",
       "        0.23441677, 0.2383207 , 0.24215297, 0.24591741, 0.24961748,\n",
       "        0.25325638, 0.25683705, 0.26036219, 0.26383432, 0.26725574,\n",
       "        0.27062863, 0.27395499, 0.2772367 , 0.2804755 , 0.28367304,\n",
       "        0.28683085, 0.28995038, 0.29303299, 0.29607996, 0.2990925 ,\n",
       "        0.30207174, 0.30501878, 0.30793462, 0.31082025, 0.31367658],\n",
       "       [0.14432738, 0.15984166, 0.17285428, 0.18446906, 0.19514405,\n",
       "        0.2051253 , 0.21456429, 0.22356262, 0.23219262, 0.15657597,\n",
       "        0.16277943, 0.16870677, 0.17439186, 0.17986218, 0.18514039,\n",
       "        0.19024539, 0.19519321, 0.19999751, 0.20467012, 0.2092213 ,\n",
       "        0.21366005, 0.21799432, 0.22223115, 0.22637683, 0.23043701,\n",
       "        0.23441677, 0.2383207 , 0.24215297, 0.24591741, 0.24961748,\n",
       "        0.25325638, 0.25683705, 0.26036219, 0.26383432, 0.26725574,\n",
       "        0.27062863, 0.27395499, 0.2772367 , 0.2804755 , 0.28367304,\n",
       "        0.28683085, 0.28995038, 0.29303299, 0.29607996, 0.2990925 ,\n",
       "        0.30207174, 0.30501878, 0.30793462, 0.31082025, 0.31367658],\n",
       "       [0.14432738, 0.15984166, 0.17285428, 0.18446906, 0.19514405,\n",
       "        0.2051253 , 0.21456429, 0.22356262, 0.23219262, 0.15657597,\n",
       "        0.16277943, 0.16870677, 0.17439186, 0.17986218, 0.18514039,\n",
       "        0.19024539, 0.19519321, 0.19999751, 0.20467012, 0.2092213 ,\n",
       "        0.21366005, 0.21799432, 0.22223115, 0.22637683, 0.23043701,\n",
       "        0.23441677, 0.2383207 , 0.24215297, 0.24591741, 0.24961748,\n",
       "        0.25325638, 0.25683705, 0.26036219, 0.26383432, 0.26725574,\n",
       "        0.27062863, 0.27395499, 0.2772367 , 0.2804755 , 0.28367304,\n",
       "        0.28683085, 0.28995038, 0.29303299, 0.29607996, 0.2990925 ,\n",
       "        0.30207174, 0.30501878, 0.30793462, 0.31082025, 0.31367658],\n",
       "       [1.37962631, 1.51235406, 1.6236795 , 1.72304624, 1.81437282,\n",
       "        1.89976436, 1.98051675, 2.05749923, 2.1313306 , 2.20247113,\n",
       "        2.27127492, 1.52017689, 1.57047334, 1.61886973, 1.66556641,\n",
       "        1.71073079, 1.75450449, 1.79700857, 1.8383475 , 1.87861214,\n",
       "        1.91788212, 1.95622772, 1.99371129, 2.03038848, 2.06630919,\n",
       "        2.10151839, 2.13605676, 2.16996123, 2.20326548, 2.2360003 ,\n",
       "        2.26819394, 2.29987238, 2.33105959, 2.36177774, 2.39204738,\n",
       "        2.4218876 , 2.45131616, 2.48034966, 2.50900359, 2.53729246,\n",
       "        2.56522987, 2.59282861, 2.6201007 , 2.64705747, 2.67370962,\n",
       "        2.70006724, 2.72613989, 2.75193662, 2.777466  , 2.80273618]])"
      ]
     },
     "execution_count": 7,
     "metadata": {},
     "output_type": "execute_result"
    }
   ],
   "source": [
    "# Смотрим...\n",
    "pogon_aktiv_soprotiv_faz"
   ]
  },
  {
   "cell_type": "code",
   "execution_count": 8,
   "metadata": {},
   "outputs": [],
   "source": [
    "# Вычисление погонных индуктивных сопротивлении для фаз и троса.\n",
    "# Получаем матрицу с размерностью [4 х 4 х 50]\n",
    "inductiv_soprotiv_faz = rashet.inductiv_soprotiv(Fazy, garmoniki)"
   ]
  },
  {
   "cell_type": "code",
   "execution_count": 9,
   "metadata": {},
   "outputs": [
    {
     "data": {
      "text/plain": [
       "array([[230.42892558, 100.24684566,  97.26749865,  92.66618175],\n",
       "       [100.24684566, 230.42892558, 100.06901204,  91.24163763],\n",
       "       [ 97.26749865, 100.06901204, 230.42892558, 110.98034618],\n",
       "       [ 92.66618175,  91.24163763, 110.98034618, 245.94524846]])"
      ]
     },
     "execution_count": 9,
     "metadata": {},
     "output_type": "execute_result"
    }
   ],
   "source": [
    "# Смотрим...\n",
    "inductiv_soprotiv_faz[0]"
   ]
  },
  {
   "cell_type": "code",
   "execution_count": 10,
   "metadata": {},
   "outputs": [],
   "source": [
    "# Вычисление погонных ёмкостных проводимостей для фаз и троса.\n",
    "# Получаем матрицу с размерностью [4 х 4 х 50]\n",
    "emkostn_provodimost_faz = rashet.emkostnaya_provodimost(Fazy, garmoniki)"
   ]
  },
  {
   "cell_type": "code",
   "execution_count": 11,
   "metadata": {},
   "outputs": [
    {
     "data": {
      "text/plain": [
       "array([[2.08572308e-06, 0.00000000e+00, 0.00000000e+00, 0.00000000e+00],\n",
       "       [0.00000000e+00, 2.08572308e-06, 0.00000000e+00, 0.00000000e+00],\n",
       "       [0.00000000e+00, 0.00000000e+00, 2.01956370e-06, 0.00000000e+00],\n",
       "       [0.00000000e+00, 0.00000000e+00, 0.00000000e+00, 1.82972738e-06]])"
      ]
     },
     "execution_count": 11,
     "metadata": {},
     "output_type": "execute_result"
    }
   ],
   "source": [
    "# Смотрим...\n",
    "emkostn_provodimost_faz[0]"
   ]
  },
  {
   "cell_type": "code",
   "execution_count": 12,
   "metadata": {},
   "outputs": [],
   "source": [
    "# Матрица полных погонных прводимостей\n",
    "Y = rashet.polnaya_provodimost(emkostn_provodimost_faz)"
   ]
  },
  {
   "cell_type": "code",
   "execution_count": 13,
   "metadata": {
    "scrolled": true
   },
   "outputs": [
    {
     "data": {
      "text/plain": [
       "array([[0.+2.08572308e-06j, 0.+0.00000000e+00j, 0.+0.00000000e+00j,\n",
       "        0.+0.00000000e+00j],\n",
       "       [0.+0.00000000e+00j, 0.+2.08572308e-06j, 0.+0.00000000e+00j,\n",
       "        0.+0.00000000e+00j],\n",
       "       [0.+0.00000000e+00j, 0.+0.00000000e+00j, 0.+2.01956370e-06j,\n",
       "        0.+0.00000000e+00j],\n",
       "       [0.+0.00000000e+00j, 0.+0.00000000e+00j, 0.+0.00000000e+00j,\n",
       "        0.+1.82972738e-06j]])"
      ]
     },
     "execution_count": 13,
     "metadata": {},
     "output_type": "execute_result"
    }
   ],
   "source": [
    "# Смотрим\n",
    "Y[0]\n",
    "    "
   ]
  },
  {
   "cell_type": "code",
   "execution_count": 14,
   "metadata": {},
   "outputs": [],
   "source": [
    "# Матрица полных погонных сопротивлении\n",
    "Z = rashet.polnoe_soprotivlenye(inductiv_soprotiv_faz, pogon_aktiv_soprotiv_faz)"
   ]
  },
  {
   "cell_type": "code",
   "execution_count": 15,
   "metadata": {
    "scrolled": false
   },
   "outputs": [
    {
     "data": {
      "text/plain": [
       "array([[0.15984166+460.85785116j, 0.        +200.49369132j,\n",
       "        0.        +194.53499729j, 0.        +185.3323635j ],\n",
       "       [0.        +200.49369132j, 0.15984166+460.85785116j,\n",
       "        0.        +200.13802409j, 0.        +182.48327526j],\n",
       "       [0.        +194.53499729j, 0.        +200.13802409j,\n",
       "        0.15984166+460.85785116j, 0.        +221.96069236j],\n",
       "       [0.        +185.3323635j , 0.        +182.48327526j,\n",
       "        0.        +221.96069236j, 1.51235406+491.89049693j]])"
      ]
     },
     "execution_count": 15,
     "metadata": {},
     "output_type": "execute_result"
    }
   ],
   "source": [
    "# Смотрим \n",
    "Z[1]"
   ]
  },
  {
   "cell_type": "code",
   "execution_count": 16,
   "metadata": {},
   "outputs": [],
   "source": [
    "# Функция для расчета комплексных квадратных матриц лямбда_напряж и лямбда_ток\n",
    "lambda_U, lambda_I = rashet.calculate_lambdas(Z, Y)"
   ]
  },
  {
   "cell_type": "code",
   "execution_count": 17,
   "metadata": {},
   "outputs": [
    {
     "data": {
      "text/plain": [
       "(50, 4, 4)"
      ]
     },
     "execution_count": 17,
     "metadata": {},
     "output_type": "execute_result"
    }
   ],
   "source": [
    "# Проверка полученных данных\n",
    "lambda_U.shape"
   ]
  },
  {
   "cell_type": "code",
   "execution_count": 18,
   "metadata": {},
   "outputs": [],
   "source": [
    "# Функция для расчета комплексных квадратных матриц экспонен_напряжения и экспонента_ток\n",
    "# Для примера были взяты значения для отрезка 300\n",
    "pos_expon_U, neg_expon_U = rashet.calculate_exponentials(lambda_U, 300)\n",
    "pos_expon_I, neg_expon_I = rashet.calculate_exponentials(lambda_I, 300)"
   ]
  },
  {
   "cell_type": "code",
   "execution_count": 19,
   "metadata": {},
   "outputs": [
    {
     "data": {
      "text/plain": [
       "(50, 4, 4)"
      ]
     },
     "execution_count": 19,
     "metadata": {},
     "output_type": "execute_result"
    }
   ],
   "source": [
    "# Проверка полученных данных\n",
    "pos_expon_U.shape"
   ]
  },
  {
   "cell_type": "code",
   "execution_count": null,
   "metadata": {},
   "outputs": [],
   "source": []
  },
  {
   "cell_type": "code",
   "execution_count": null,
   "metadata": {},
   "outputs": [],
   "source": []
  },
  {
   "cell_type": "code",
   "execution_count": null,
   "metadata": {},
   "outputs": [],
   "source": []
  },
  {
   "cell_type": "code",
   "execution_count": null,
   "metadata": {},
   "outputs": [],
   "source": []
  },
  {
   "cell_type": "code",
   "execution_count": null,
   "metadata": {},
   "outputs": [],
   "source": []
  },
  {
   "cell_type": "code",
   "execution_count": null,
   "metadata": {},
   "outputs": [],
   "source": []
  },
  {
   "cell_type": "code",
   "execution_count": null,
   "metadata": {},
   "outputs": [],
   "source": []
  },
  {
   "cell_type": "code",
   "execution_count": null,
   "metadata": {},
   "outputs": [],
   "source": []
  },
  {
   "cell_type": "code",
   "execution_count": 20,
   "metadata": {},
   "outputs": [],
   "source": [
    "######################################### TESTING POLYGON #############################################"
   ]
  },
  {
   "cell_type": "code",
   "execution_count": 21,
   "metadata": {},
   "outputs": [
    {
     "data": {
      "text/plain": [
       "array([[1.09556478, 0.68118235, 0.6716988 , 0.65705235],\n",
       "       [0.68118235, 1.09556478, 0.68061629, 0.65251788],\n",
       "       [0.6716988 , 0.68061629, 1.09556478, 0.71534815],\n",
       "       [0.65705235, 0.65251788, 0.71534815, 1.09556478]])"
      ]
     },
     "execution_count": 21,
     "metadata": {},
     "output_type": "execute_result"
    }
   ],
   "source": [
    "inductiv_soprotiv_faz[0]"
   ]
  },
  {
   "cell_type": "code",
   "execution_count": 22,
   "metadata": {},
   "outputs": [
    {
     "data": {
      "text/plain": [
       "230.4289255793728"
      ]
     },
     "execution_count": 22,
     "metadata": {},
     "output_type": "execute_result"
    }
   ],
   "source": [
    "np.log10(1000/Faza_A.radius)*0.145*np.pi*100"
   ]
  },
  {
   "cell_type": "code",
   "execution_count": null,
   "metadata": {},
   "outputs": [],
   "source": []
  },
  {
   "cell_type": "code",
   "execution_count": null,
   "metadata": {},
   "outputs": [],
   "source": []  }
 ],
 "metadata": {
  "kernelspec": {
   "display_name": "Python 3",
   "language": "python",
   "name": "python3"
  },
  "language_info": {
   "codemirror_mode": {
    "name": "ipython",
    "version": 3
   },
   "file_extension": ".py",
   "mimetype": "text/x-python",
   "name": "python",
   "nbconvert_exporter": "python",
   "pygments_lexer": "ipython3",
   "version": "3.8.5"
  }
 },
 "nbformat": 4,
 "nbformat_minor": 4
}
